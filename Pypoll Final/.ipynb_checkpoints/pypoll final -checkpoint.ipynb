{
 "cells": [
  {
   "cell_type": "code",
   "execution_count": 1,
   "metadata": {},
   "outputs": [
    {
     "name": "stdout",
     "output_type": "stream",
     "text": [
      "Total Votes: 3521001\n",
      "Khan : 63 % ( 2218231 )\n",
      "Correy : 20 % ( 704200 )\n",
      "Li : 14 % ( 492940 )\n",
      "O'Tooley : 3 % ( 105630 )\n",
      "Winner: Khan 2218231\n"
     ]
    }
   ],
   "source": [
    "import pandas as pd\n",
    "\n",
    "df = []\n",
    "df1 = []\n",
    "election_csv = \"Resources/election_data.csv\"\n",
    "election_df = pd.read_csv(election_csv)\n",
    "\n",
    "# data = pd.read_csv (election_data.csv')   \n",
    "df = pd.DataFrame(election_df, columns= ['Voter ID'])\n",
    "totalNums = (len(df))\n",
    "print(\"Total Votes: \" + str(totalNums))\n",
    "\n",
    "# variables for candidate names\n",
    "\n",
    "df1 = pd.DataFrame(election_df, columns= ['Candidate'])\n",
    "name_arr = df1['Candidate'].values\n",
    "can_name_list = list(dict.fromkeys(name_arr))\n",
    "name_length = (len(can_name_list))\n",
    "name_list = name_arr.tolist()\n",
    "y_list = []\n",
    "\n",
    "# determine vote count and percentage of votes for each candidate\n",
    "\n",
    "def voteCount(name_list, x): \n",
    "    count = 0\n",
    "    for ele in name_list: \n",
    "        if (ele == x): \n",
    "            count = count + 1\n",
    "    return count  \n",
    "for i in range(name_length):\n",
    "    y = []\n",
    "    x = can_name_list[i]\n",
    "    y = name_list.count(can_name_list[i])\n",
    "    z = round(y/totalNums * 100)\n",
    "    print(x , \":\" , z , \"%\" , \"(\" , y , \")\")\n",
    "    \n",
    "# determine name of the winner\n",
    "\n",
    "    for elem in name_list:\n",
    "        if (elem == can_name_list[i]):\n",
    "            y_list.append(y)\n",
    "value_list = list(dict.fromkeys(y_list))\n",
    "a = max(value_list)\n",
    "\n",
    "if a == value_list[0]:\n",
    "    print(\"Winner:\", can_name_list[0], a)\n",
    "elif a == value_list[1]:\n",
    "    print(\"Winner:\", can_name_list[1], a)\n",
    "elif a == value_list[2]:\n",
    "    print(\"Winner:\", can_name_list[2], a)\n",
    "else:\n",
    "    print(\"Winner:\", can_name_list[3], a)\n",
    "\n",
    "\n",
    "    "
   ]
  },
  {
   "cell_type": "code",
   "execution_count": null,
   "metadata": {},
   "outputs": [],
   "source": []
  },
  {
   "cell_type": "code",
   "execution_count": null,
   "metadata": {},
   "outputs": [],
   "source": []
  }
 ],
 "metadata": {
  "kernelspec": {
   "display_name": "Python 3",
   "language": "python",
   "name": "python3"
  },
  "language_info": {
   "codemirror_mode": {
    "name": "ipython",
    "version": 3
   },
   "file_extension": ".py",
   "mimetype": "text/x-python",
   "name": "python",
   "nbconvert_exporter": "python",
   "pygments_lexer": "ipython3",
   "version": "3.7.6"
  }
 },
 "nbformat": 4,
 "nbformat_minor": 4
}
